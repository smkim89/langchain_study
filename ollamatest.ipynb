{
 "cells": [
  {
   "cell_type": "code",
   "id": "initial_id",
   "metadata": {
    "collapsed": true,
    "ExecuteTime": {
     "end_time": "2024-08-28T08:24:54.232068Z",
     "start_time": "2024-08-28T08:24:50.504999Z"
    }
   },
   "source": [
    "from langchain.chat_models import ChatOllama\n",
    "from langchain_core.messages import HumanMessage\n",
    "\n",
    "# IP 주소와 포트 지정\n",
    "ollama = ChatOllama(base_url=\"http://192.168.100.202:11434\",\n",
    "                     model=\"llama3.1\",\n",
    "                    temperature=0.1)\n",
    "\n",
    "response = ollama.invoke(\"How many planets are there?\")\n",
    "print(response)"
   ],
   "outputs": [
    {
     "name": "stdout",
     "output_type": "stream",
     "text": [
      "content='As of 2021, there are eight recognized planets in our solar system:\\n\\n1. Mercury\\n2. Venus\\n3. Earth\\n4. Mars\\n5. Jupiter\\n6. Saturn\\n7. Uranus\\n8. Neptune\\n\\nHowever, the definition and classification of a planet have evolved over time.\\n\\n**Historical context:**\\n\\nIn 2006, Pluto was reclassified as a dwarf planet by the International Astronomical Union (IAU), which is the governing body responsible for defining the official boundaries and names of celestial objects. This decision was made after the discovery of several other objects in the Kuiper Belt that were similar in size and composition to Pluto.\\n\\n**The IAU definition:**\\n\\nAccording to the IAU, a planet must meet three criteria:\\n\\n1. **It must be in orbit around the Sun**: This rules out moons and other celestial bodies that are not gravitationally bound to our star.\\n2. **It must be massive enough to be rounded by its own gravity**: In other words, it should have sufficient mass to pull itself into a spherical shape.\\n3. **It must have cleared the neighborhood around its orbit**: This means that the planet must be the dominant object in its orbital zone and have removed or ejected all other objects in its vicinity.\\n\\n**Other celestial bodies:**\\n\\nIn addition to the eight recognized planets, there are many other types of celestial bodies in our solar system, including:\\n\\n* Dwarf planets (e.g., Pluto, Eris)\\n* Moons (e.g., the Moon orbiting Earth, Titan orbiting Saturn)\\n* Asteroids (small rocky objects that orbit the Sun)\\n* Comets (icy bodies that release gas and dust as they approach the Sun)\\n* Kuiper Belt Objects (KBOs) and Oort Cloud Objects (small icy bodies in the outer reaches of our solar system)\\n\\n**Exoplanets:**\\n\\nThere are thousands of exoplanets, which are planets that orbit stars other than the Sun. These exoplanets can be similar in size and composition to the planets in our own solar system or be much larger and more exotic.\\n\\nSo, while there are eight recognized planets in our solar system, the total number of celestial bodies in our universe is vast and still being explored!' response_metadata={'model': 'llama3.1', 'created_at': '2024-08-28T08:24:54.76099631Z', 'message': {'role': 'assistant', 'content': ''}, 'done_reason': 'stop', 'done': True, 'total_duration': 3670748661, 'load_duration': 21847926, 'prompt_eval_count': 17, 'prompt_eval_duration': 32589000, 'eval_count': 457, 'eval_duration': 3573794000} id='run-91254633-0f49-4294-b289-b5717dfd45da-0'\n"
     ]
    }
   ],
   "execution_count": 5
  },
  {
   "metadata": {},
   "cell_type": "code",
   "outputs": [],
   "execution_count": null,
   "source": "",
   "id": "1eb2ccac00d8f5a4"
  }
 ],
 "metadata": {
  "kernelspec": {
   "display_name": "Python 3",
   "language": "python",
   "name": "python3"
  },
  "language_info": {
   "codemirror_mode": {
    "name": "ipython",
    "version": 2
   },
   "file_extension": ".py",
   "mimetype": "text/x-python",
   "name": "python",
   "nbconvert_exporter": "python",
   "pygments_lexer": "ipython2",
   "version": "2.7.6"
  }
 },
 "nbformat": 4,
 "nbformat_minor": 5
}
