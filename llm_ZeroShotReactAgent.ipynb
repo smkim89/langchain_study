{
 "cells": [
  {
   "cell_type": "code",
   "id": "initial_id",
   "metadata": {
    "collapsed": true,
    "ExecuteTime": {
     "end_time": "2024-08-20T02:44:11.907359Z",
     "start_time": "2024-08-20T02:43:59.238973Z"
    }
   },
   "source": [
    "from langchain.chat_models import ChatOpenAI\n",
    "from langchain.tools import StructuredTool, Tool\n",
    "from langchain.agents import initialize_agent, AgentType\n",
    "from dotenv import load_dotenv\n",
    "import os\n",
    "\n",
    "load_dotenv()\n",
    "SERVICE_KEY = os.getenv('OPEN_API_KEY')\n",
    "llm = ChatOpenAI(openai_api_key=SERVICE_KEY, temperature=0.1)\n",
    "\n",
    "#zeroShotReact 는 method에 input 파라메터가 1개만 허용한다.\n",
    "def plus(inputs):\n",
    "    a, b = inputs.split(\",\")\n",
    "    return float(a) + float(b)\n",
    "\n",
    "\n",
    "agent = initialize_agent(\n",
    "    llm=llm,\n",
    "    verbose=True,\n",
    "    agent=AgentType.ZERO_SHOT_REACT_DESCRIPTION,\n",
    "    handle_parsing_errors=True,\n",
    "    tools=[\n",
    "        Tool.from_function(\n",
    "            func=plus,\n",
    "            name=\"Sum Calculator\",\n",
    "            description=\"Use this to perform sums of two numbers. Use this tool by sending a pair of number separated by a comma.\\nExample:1,2\",\n",
    "        ),\n",
    "    ],\n",
    ")\n",
    "\n",
    "prompt = \"Cost of $355.39 + $924.87 + $721.2 + $1940.29 + $573.63 + $65.72 + $35.00 + $552.00 + $76.16 + $29.12\"\n",
    "\n",
    "agent.invoke(prompt)"
   ],
   "outputs": [
    {
     "name": "stdout",
     "output_type": "stream",
     "text": [
      "\n",
      "\n",
      "\u001B[1m> Entering new AgentExecutor chain...\u001B[0m\n",
      "\u001B[32;1m\u001B[1;3mI need to add up all these numbers to find the total cost.\n",
      "Action: Sum Calculator\n",
      "Action Input: 355.39, 924.87\u001B[0m\n",
      "Observation: \u001B[36;1m\u001B[1;3m1280.26\u001B[0m\n",
      "Thought:\u001B[32;1m\u001B[1;3mI need to continue adding the next number to the sum.\n",
      "Action: Sum Calculator\n",
      "Action Input: 1280.26, 721.2\u001B[0m\n",
      "Observation: \u001B[36;1m\u001B[1;3m2001.46\u001B[0m\n",
      "Thought:\u001B[32;1m\u001B[1;3mI need to continue adding the next number to the sum.\n",
      "Action: Sum Calculator\n",
      "Action Input: 2001.46, 1940.29\u001B[0m\n",
      "Observation: \u001B[36;1m\u001B[1;3m3941.75\u001B[0m\n",
      "Thought:\u001B[32;1m\u001B[1;3mI need to continue adding the next number to the sum.\n",
      "Action: Sum Calculator\n",
      "Action Input: 3941.75, 573.63\u001B[0m\n",
      "Observation: \u001B[36;1m\u001B[1;3m4515.38\u001B[0m\n",
      "Thought:\u001B[32;1m\u001B[1;3mI need to continue adding the next number to the sum.\n",
      "Action: Sum Calculator\n",
      "Action Input: 4515.38, 65.72\u001B[0m\n",
      "Observation: \u001B[36;1m\u001B[1;3m4581.1\u001B[0m\n",
      "Thought:\u001B[32;1m\u001B[1;3mI need to continue adding the next number to the sum.\n",
      "Action: Sum Calculator\n",
      "Action Input: 4581.1, 35.00\u001B[0m\n",
      "Observation: \u001B[36;1m\u001B[1;3m4616.1\u001B[0m\n",
      "Thought:\u001B[32;1m\u001B[1;3mI need to continue adding the next number to the sum.\n",
      "Action: Sum Calculator\n",
      "Action Input: 4616.1, 552.00\u001B[0m\n",
      "Observation: \u001B[36;1m\u001B[1;3m5168.1\u001B[0m\n",
      "Thought:\u001B[32;1m\u001B[1;3mI need to continue adding the next number to the sum.\n",
      "Action: Sum Calculator\n",
      "Action Input: 5168.1, 76.16\u001B[0m\n",
      "Observation: \u001B[36;1m\u001B[1;3m5244.26\u001B[0m\n",
      "Thought:\u001B[32;1m\u001B[1;3mI need to continue adding the final number to the sum.\n",
      "Action: Sum Calculator\n",
      "Action Input: 5244.26, 29.12\u001B[0m\n",
      "Observation: \u001B[36;1m\u001B[1;3m5273.38\u001B[0m\n",
      "Thought:\u001B[32;1m\u001B[1;3mI now know the final answer\n",
      "Final Answer: $5273.38\u001B[0m\n",
      "\n",
      "\u001B[1m> Finished chain.\u001B[0m\n"
     ]
    },
    {
     "data": {
      "text/plain": [
       "{'input': 'Cost of $355.39 + $924.87 + $721.2 + $1940.29 + $573.63 + $65.72 + $35.00 + $552.00 + $76.16 + $29.12',\n",
       " 'output': '$5273.38'}"
      ]
     },
     "execution_count": 1,
     "metadata": {},
     "output_type": "execute_result"
    }
   ],
   "execution_count": 1
  },
  {
   "metadata": {},
   "cell_type": "code",
   "outputs": [],
   "execution_count": null,
   "source": "",
   "id": "564050293c3ed886"
  }
 ],
 "metadata": {
  "kernelspec": {
   "display_name": "Python 3",
   "language": "python",
   "name": "python3"
  },
  "language_info": {
   "codemirror_mode": {
    "name": "ipython",
    "version": 2
   },
   "file_extension": ".py",
   "mimetype": "text/x-python",
   "name": "python",
   "nbconvert_exporter": "python",
   "pygments_lexer": "ipython2",
   "version": "2.7.6"
  }
 },
 "nbformat": 4,
 "nbformat_minor": 5
}
