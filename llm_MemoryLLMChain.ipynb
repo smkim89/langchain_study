{
 "cells": [
  {
   "cell_type": "code",
   "id": "initial_id",
   "metadata": {
    "collapsed": true,
    "ExecuteTime": {
     "end_time": "2024-08-02T09:29:15.614351Z",
     "start_time": "2024-08-02T09:29:15.610204Z"
    }
   },
   "source": [
    "from dotenv import load_dotenv\n",
    "import os\n",
    "from langchain.chains import LLMChain\n",
    "from langchain.llms.openai import OpenAI\n",
    "from langchain.callbacks import StreamingStdOutCallbackHandler\n",
    "from langchain.memory import  ConversationSummaryBufferMemory\n",
    "from langchain.prompts import ChatPromptTemplate, MessagesPlaceholder ,PromptTemplate\n"
   ],
   "outputs": [],
   "execution_count": 18
  },
  {
   "metadata": {
    "ExecuteTime": {
     "end_time": "2024-08-02T09:29:17.792278Z",
     "start_time": "2024-08-02T09:29:16.876181Z"
    }
   },
   "cell_type": "code",
   "source": [
    "\n",
    "load_dotenv()\n",
    "SERVICE_KEY = os.getenv('OPEN_API_KEY')\n",
    "\n",
    "llm = OpenAI( openai_api_key= SERVICE_KEY,model_name=\"gpt-3.5-turbo-1106\", temperature=0.1, streaming=True, callbacks=[StreamingStdOutCallbackHandler()])\n",
    "\n",
    "memory = ConversationSummaryBufferMemory(\n",
    "    llm=llm,\n",
    "    max_token_limit=120,\n",
    "    memory_key=\"chat_history\",\n",
    "    return_messages=True\n",
    ")\n",
    "\n",
    "#MessagePlaceHolder 는 누가 보냈는지 알수없는 예측하기 어려운 메세지의 양과 제한없는 양의 메세지를 템플릿에 넣을때 사용함.\n",
    "#메세지 메모리를 messagePlaceholder에 셋업함.\n",
    "prompt = ChatPromptTemplate.from_messages(\n",
    "    [\n",
    "        (\"system\", \"You are a helpful AI talking to a human\"),\n",
    "        MessagesPlaceholder(variable_name=\"chat_history\"),\n",
    "        (\"human\", \"{question}\"),\n",
    "    ]\n",
    ")\n",
    "\n",
    "chain = LLMChain(llm=llm, memory=memory, prompt=prompt, verbose=True)\n",
    "chain.predict(question=\"Hello i'm sungmin\")\n"
   ],
   "id": "be7d2fb358db9356",
   "outputs": [
    {
     "name": "stderr",
     "output_type": "stream",
     "text": [
      "C:\\Users\\smkim\\AppData\\Local\\anaconda3\\envs\\STT\\Lib\\site-packages\\langchain\\llms\\openai.py:216: UserWarning: You are trying to use a chat model. This way of initializing it is no longer supported. Instead, please use: `from langchain.chat_models import ChatOpenAI`\n",
      "  warnings.warn(\n",
      "C:\\Users\\smkim\\AppData\\Local\\anaconda3\\envs\\STT\\Lib\\site-packages\\langchain\\llms\\openai.py:811: UserWarning: You are trying to use a chat model. This way of initializing it is no longer supported. Instead, please use: `from langchain.chat_models import ChatOpenAI`\n",
      "  warnings.warn(\n"
     ]
    },
    {
     "name": "stdout",
     "output_type": "stream",
     "text": [
      "\n",
      "\n",
      "\u001B[1m> Entering new LLMChain chain...\u001B[0m\n",
      "Prompt after formatting:\n",
      "\u001B[32;1m\u001B[1;3mSystem: You are a helpful AI talking to a human\n",
      "Human: Hello i'm sungmin\u001B[0m\n",
      "AI: Hello Sungmin! How can I assist you today?\n",
      "\u001B[1m> Finished chain.\u001B[0m\n"
     ]
    },
    {
     "data": {
      "text/plain": [
       "'AI: Hello Sungmin! How can I assist you today?'"
      ]
     },
     "execution_count": 19,
     "metadata": {},
     "output_type": "execute_result"
    }
   ],
   "execution_count": 19
  },
  {
   "metadata": {
    "ExecuteTime": {
     "end_time": "2024-08-02T09:29:21.041338Z",
     "start_time": "2024-08-02T09:29:20.093895Z"
    }
   },
   "cell_type": "code",
   "source": "chain.predict(question=\"I'm live in seoul\")",
   "id": "32099460741319a0",
   "outputs": [
    {
     "name": "stdout",
     "output_type": "stream",
     "text": [
      "\n",
      "\n",
      "\u001B[1m> Entering new LLMChain chain...\u001B[0m\n",
      "Prompt after formatting:\n",
      "\u001B[32;1m\u001B[1;3mSystem: You are a helpful AI talking to a human\n",
      "Human: Hello i'm sungmin\n",
      "AI: AI: Hello Sungmin! How can I assist you today?\n",
      "Human: I'm live in seoul\u001B[0m\n",
      "AI: That's great! Seoul is a vibrant and bustling city. Is there anything specific you'd like to know or discuss about living in Seoul?\n",
      "\u001B[1m> Finished chain.\u001B[0m\n"
     ]
    },
    {
     "data": {
      "text/plain": [
       "\"AI: That's great! Seoul is a vibrant and bustling city. Is there anything specific you'd like to know or discuss about living in Seoul?\""
      ]
     },
     "execution_count": 20,
     "metadata": {},
     "output_type": "execute_result"
    }
   ],
   "execution_count": 20
  },
  {
   "metadata": {
    "ExecuteTime": {
     "end_time": "2024-08-02T09:29:24.012153Z",
     "start_time": "2024-08-02T09:29:23.211839Z"
    }
   },
   "cell_type": "code",
   "source": "chain.predict(question=\"What is my name?\")",
   "id": "8085738e3ab37c9d",
   "outputs": [
    {
     "name": "stdout",
     "output_type": "stream",
     "text": [
      "\n",
      "\n",
      "\u001B[1m> Entering new LLMChain chain...\u001B[0m\n",
      "Prompt after formatting:\n",
      "\u001B[32;1m\u001B[1;3mSystem: You are a helpful AI talking to a human\n",
      "Human: Hello i'm sungmin\n",
      "AI: AI: Hello Sungmin! How can I assist you today?\n",
      "Human: I'm live in seoul\n",
      "AI: AI: That's great! Seoul is a vibrant and bustling city. Is there anything specific you'd like to know or discuss about living in Seoul?\n",
      "Human: What is my name?\u001B[0m\n",
      "AI: Your name is Sungmin.\n",
      "\u001B[1m> Finished chain.\u001B[0m\n"
     ]
    },
    {
     "data": {
      "text/plain": [
       "'AI: Your name is Sungmin.'"
      ]
     },
     "execution_count": 21,
     "metadata": {},
     "output_type": "execute_result"
    }
   ],
   "execution_count": 21
  },
  {
   "metadata": {
    "ExecuteTime": {
     "end_time": "2024-08-02T09:29:29.121559Z",
     "start_time": "2024-08-02T09:29:26.847360Z"
    }
   },
   "cell_type": "code",
   "source": "chain.predict(question=\"I like pizza\")",
   "id": "bc29533043979c32",
   "outputs": [
    {
     "name": "stdout",
     "output_type": "stream",
     "text": [
      "\n",
      "\n",
      "\u001B[1m> Entering new LLMChain chain...\u001B[0m\n",
      "Prompt after formatting:\n",
      "\u001B[32;1m\u001B[1;3mSystem: You are a helpful AI talking to a human\n",
      "Human: Hello i'm sungmin\n",
      "AI: AI: Hello Sungmin! How can I assist you today?\n",
      "Human: I'm live in seoul\n",
      "AI: AI: That's great! Seoul is a vibrant and bustling city. Is there anything specific you'd like to know or discuss about living in Seoul?\n",
      "Human: What is my name?\n",
      "AI: AI: Your name is Sungmin.\n",
      "Human: I like pizza\u001B[0m\n",
      "AI: Pizza is a delicious choice! There are many great pizza places in Seoul. Do you have a favorite pizza topping?\n",
      "\u001B[1m> Finished chain.\u001B[0m\n"
     ]
    },
    {
     "data": {
      "text/plain": [
       "'AI: Pizza is a delicious choice! There are many great pizza places in Seoul. Do you have a favorite pizza topping?'"
      ]
     },
     "execution_count": 22,
     "metadata": {},
     "output_type": "execute_result"
    }
   ],
   "execution_count": 22
  },
  {
   "metadata": {
    "ExecuteTime": {
     "end_time": "2024-08-02T09:29:31.546662Z",
     "start_time": "2024-08-02T09:29:31.540976Z"
    }
   },
   "cell_type": "code",
   "source": "memory.load_memory_variables({})",
   "id": "6799cb01910d5a9d",
   "outputs": [
    {
     "data": {
      "text/plain": [
       "{'chat_history': [HumanMessage(content=\"Hello i'm sungmin\"),\n",
       "  AIMessage(content='AI: Hello Sungmin! How can I assist you today?'),\n",
       "  HumanMessage(content=\"I'm live in seoul\"),\n",
       "  AIMessage(content=\"AI: That's great! Seoul is a vibrant and bustling city. Is there anything specific you'd like to know or discuss about living in Seoul?\"),\n",
       "  HumanMessage(content='What is my name?'),\n",
       "  AIMessage(content='AI: Your name is Sungmin.'),\n",
       "  HumanMessage(content='I like pizza'),\n",
       "  AIMessage(content='AI: Pizza is a delicious choice! There are many great pizza places in Seoul. Do you have a favorite pizza topping?')]}"
      ]
     },
     "execution_count": 23,
     "metadata": {},
     "output_type": "execute_result"
    }
   ],
   "execution_count": 23
  },
  {
   "metadata": {},
   "cell_type": "code",
   "outputs": [],
   "execution_count": null,
   "source": "",
   "id": "68ca07623f9dd41a"
  }
 ],
 "metadata": {
  "kernelspec": {
   "display_name": "Python 3",
   "language": "python",
   "name": "python3"
  },
  "language_info": {
   "codemirror_mode": {
    "name": "ipython",
    "version": 2
   },
   "file_extension": ".py",
   "mimetype": "text/x-python",
   "name": "python",
   "nbconvert_exporter": "python",
   "pygments_lexer": "ipython2",
   "version": "2.7.6"
  }
 },
 "nbformat": 4,
 "nbformat_minor": 5
}
