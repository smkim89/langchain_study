{
 "cells": [
  {
   "cell_type": "code",
   "id": "initial_id",
   "metadata": {
    "collapsed": true,
    "ExecuteTime": {
     "end_time": "2024-07-25T04:02:53.379492Z",
     "start_time": "2024-07-25T04:02:53.375833Z"
    }
   },
   "source": [
    "from langchain.llms.openai import OpenAI\n",
    "from langchain.prompts import ChatPromptTemplate\n",
    "from langchain.callbacks import StreamingStdOutCallbackHandler\n",
    "from dotenv import load_dotenv\n",
    "import os\n"
   ],
   "outputs": [],
   "execution_count": 13
  },
  {
   "metadata": {
    "ExecuteTime": {
     "end_time": "2024-07-25T09:20:42.520824Z",
     "start_time": "2024-07-25T09:20:35.940775Z"
    }
   },
   "cell_type": "code",
   "source": [
    "\n",
    "load_dotenv()\n",
    "SERVICE_KEY = os.getenv('OPEN_API_KEY')\n",
    "\n",
    "llm = OpenAI(openai_api_key=SERVICE_KEY, model_name=\"gpt-3.5-turbo-1106\", temperature=0.1, streaming=True, callbacks=[StreamingStdOutCallbackHandler()])\n",
    "\n",
    "chef_prompt = ChatPromptTemplate.from_messages([\n",
    "    (\"system\", \"You are a world-class international chef. you create easy to follow recipeies for any type of cuisine with easy to find ingredients.\"),\n",
    "    (\"human\", \"i want to cook {cuisine} food\")\n",
    "])\n",
    "\n",
    "veg_chef_prompt = ChatPromptTemplate.from_messages([\n",
    "    (\"system\", \"You are a vegetarian chef specialized on making tradititional recipies vegetarian. You find alternative ingredients and explain their preparation. \"\n",
    "               \"you don't radically modify the recipe. If there is no alternative for a food just say dont' know how to replace it.\"),\n",
    "    (\"human\", \"{recipe}\")\n",
    "])\n",
    "\n",
    "chef_chain = chef_prompt | llm\n",
    "\n",
    "veg_chain = veg_chef_prompt | llm\n",
    "\n",
    "final_chain = {\"recipe\" : chef_chain} | veg_chain\n",
    "\n",
    "final_chain.invoke({\n",
    "    \"cuisine\" : \"indian\"\n",
    "})\n"
   ],
   "id": "be7d2fb358db9356",
   "outputs": [
    {
     "name": "stderr",
     "output_type": "stream",
     "text": [
      "C:\\Users\\smkim\\AppData\\Local\\anaconda3\\envs\\STT\\Lib\\site-packages\\langchain\\llms\\openai.py:216: UserWarning: You are trying to use a chat model. This way of initializing it is no longer supported. Instead, please use: `from langchain.chat_models import ChatOpenAI`\n",
      "  warnings.warn(\n",
      "C:\\Users\\smkim\\AppData\\Local\\anaconda3\\envs\\STT\\Lib\\site-packages\\langchain\\llms\\openai.py:811: UserWarning: You are trying to use a chat model. This way of initializing it is no longer supported. Instead, please use: `from langchain.chat_models import ChatOpenAI`\n",
      "  warnings.warn(\n"
     ]
    },
    {
     "name": "stdout",
     "output_type": "stream",
     "text": [
      "System: Great choice! Indian cuisine is known for its rich and flavorful dishes. How about trying to make a classic Indian dish like Chicken Tikka Masala? It's a delicious and popular dish that's sure to impress your friends and family.\n",
      "\n",
      "Here's a simple recipe for Chicken Tikka Masala:\n",
      "\n",
      "Ingredients:\n",
      "- 1 lb boneless, skinless chicken breasts, cut into bite-sized pieces\n",
      "- 1 cup plain yogurt\n",
      "- 2 tbsp lemon juice\n",
      "- 2 tsp ground cumin\n",
      "- 2 tsp ground coriander\n",
      "- 1 tsp ground turmeric\n",
      "- 1 tsp garam masala\n",
      "- 1 tsp paprika\n",
      "- 1 tsp cayenne pepper (adjust to taste)\n",
      "- 2 tbsp vegetable oil\n",
      "- 1 onion, finely chopped\n",
      "- 3 garlic cloves, minced\n",
      "- 1-inch piece of ginger, grated\n",
      "- 1 can (14 oz) tomato sauce\n",
      "- 1 cup heavy cream\n",
      "- Salt and pepper to taste\n",
      "- Fresh cilantro for garnish\n",
      "\n",
      "Instructions:\n",
      "1. In a large bowl, mix together the yogurt, lemon juice, cumin, coriander, turmeric, garam masala, paprika, and cayenne pepper. Add the chicken pieces and toss to coat. Cover and refrigerate for at least 1 hour, or overnight for best results.\n",
      "\n",
      "2. Preheat the broiler. Thread the marinated chicken onto skewers and place on a baking sheet. Broil for 5-7 minutes on each side, or until the chicken is cooked through and slightly charred. Remove from the oven and set aside.\n",
      "\n",
      "3. In a large skillet, heat the vegetable oil over medium heat. Add the chopped onion and cook until softened, about 5 minutes. Add the garlic and ginger, and cook for another 2 minutes.\n",
      "\n",
      "4. Stir in the tomato sauce and bring to a simmer. Add the broiled chicken pieces and simmer for 10 minutes, stirring occasionally.\n",
      "\n",
      "5. Stir in the heavy cream and season with salt and pepper to taste. Simmer for an additional 5 minutes.\n",
      "\n",
      "6. Garnish with fresh cilantro and serve with steamed rice or naan bread.\n",
      "\n",
      "Enjoy your homemade Chicken Tikka Masala! It's a delicious and satisfying dish that's perfect for any occasion.As a vegetarian chef, I would suggest using paneer or tofu instead of chicken in this recipe. Both paneer and tofu are great alternatives that can absorb the flavors of the marinade and spices just like chicken. Simply cut the paneer or tofu into bite-sized pieces and follow the same marinating and broiling process as you would with the chicken. The rest of the recipe can be followed as is, and you'll have a delicious vegetarian version of Chicken Tikka Masala. Enjoy!"
     ]
    },
    {
     "data": {
      "text/plain": [
       "\"As a vegetarian chef, I would suggest using paneer or tofu instead of chicken in this recipe. Both paneer and tofu are great alternatives that can absorb the flavors of the marinade and spices just like chicken. Simply cut the paneer or tofu into bite-sized pieces and follow the same marinating and broiling process as you would with the chicken. The rest of the recipe can be followed as is, and you'll have a delicious vegetarian version of Chicken Tikka Masala. Enjoy!\""
      ]
     },
     "execution_count": 21,
     "metadata": {},
     "output_type": "execute_result"
    }
   ],
   "execution_count": 21
  },
  {
   "metadata": {},
   "cell_type": "code",
   "outputs": [],
   "execution_count": null,
   "source": "",
   "id": "f01ee70c6bc21989"
  }
 ],
 "metadata": {
  "kernelspec": {
   "display_name": "Python 3",
   "language": "python",
   "name": "python3"
  },
  "language_info": {
   "codemirror_mode": {
    "name": "ipython",
    "version": 2
   },
   "file_extension": ".py",
   "mimetype": "text/x-python",
   "name": "python",
   "nbconvert_exporter": "python",
   "pygments_lexer": "ipython2",
   "version": "2.7.6"
  }
 },
 "nbformat": 4,
 "nbformat_minor": 5
}
