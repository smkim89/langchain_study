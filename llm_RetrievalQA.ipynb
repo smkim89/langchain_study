{
 "cells": [
  {
   "cell_type": "code",
   "id": "initial_id",
   "metadata": {
    "collapsed": true,
    "ExecuteTime": {
     "end_time": "2024-08-09T09:28:39.103021Z",
     "start_time": "2024-08-09T09:28:38.997075Z"
    }
   },
   "source": [
    "from dotenv import load_dotenv\n",
    "import os\n",
    "from langchain.chat_models import ChatOpenAI\n",
    "from langchain.callbacks import StreamingStdOutCallbackHandler\n",
    "from langchain.document_loaders import UnstructuredFileLoader\n",
    "from langchain.text_splitter import  RecursiveCharacterTextSplitter\n",
    "from langchain.text_splitter import CharacterTextSplitter\n",
    "from langchain.embeddings import OpenAIEmbeddings, CacheBackedEmbeddings\n",
    "from langchain.vectorstores import Chroma\n",
    "from langchain.storage import LocalFileStore\n",
    "from langchain.prompts import ChatPromptTemplate\n",
    "from langchain.schema.runnable import RunnablePassthrough\n"
   ],
   "outputs": [],
   "execution_count": 4
  },
  {
   "metadata": {
    "ExecuteTime": {
     "end_time": "2024-08-09T09:28:43.805312Z",
     "start_time": "2024-08-09T09:28:43.240064Z"
    }
   },
   "cell_type": "code",
   "source": [
    "\n",
    "load_dotenv()\n",
    "SERVICE_KEY = os.getenv('OPEN_API_KEY')\n",
    "\n",
    "# Cache 디렉토리 지정\n",
    "cache_dir = LocalFileStore(\"./.cache/\")\n",
    "\n",
    "\n",
    "llm = ChatOpenAI( openai_api_key= SERVICE_KEY,model_name=\"gpt-3.5-turbo-1106\", temperature=0.1, streaming=True, callbacks=[StreamingStdOutCallbackHandler()])\n",
    "\n",
    "# splitter = RecursiveCharacterTextSplitter(\n",
    "#     chunk_size=200,\n",
    "#     chunk_overlap=50\n",
    "# )\n",
    "splitter = CharacterTextSplitter.from_tiktoken_encoder(\n",
    "    separator=\"\\n\",\n",
    "    chunk_size=600,\n",
    "    chunk_overlap=100\n",
    ")\n",
    "\n",
    "loader = UnstructuredFileLoader(\"./files/word_test.docx\")\n",
    "\n",
    "docs = loader.load_and_split(text_splitter=splitter)\n",
    "\n",
    "embeddings = OpenAIEmbeddings(openai_api_key= SERVICE_KEY)\n",
    "\n",
    "cached_embeddings = CacheBackedEmbeddings.from_bytes_store(embeddings, cache_dir)\n",
    "\n",
    "vectorstore = Chroma.from_documents(docs, cached_embeddings)\n"
   ],
   "id": "be7d2fb358db9356",
   "outputs": [],
   "execution_count": 5
  },
  {
   "metadata": {
    "ExecuteTime": {
     "end_time": "2024-08-09T09:28:52.156700Z",
     "start_time": "2024-08-09T09:28:49.767891Z"
    }
   },
   "cell_type": "code",
   "source": [
    "\n",
    "results = vectorstore.similarity_search(\"where does winston live\")\n",
    "\n",
    "retriver = vectorstore.as_retriever()\n",
    "\n",
    "prompt = ChatPromptTemplate.from_messages(\n",
    "    [\n",
    "        (\n",
    "            \"system\",\n",
    "            \"You are a helpful assistant. Answer questions using only the following context. If you don't know the answer just say you don't know, don't make it up:\\n\\n{context}\",\n",
    "        ),\n",
    "        (\"human\", \"{question}\"),\n",
    "    ]\n",
    ")\n",
    "\n",
    "chain = (\n",
    "    {\n",
    "        \"context\": retriver,\n",
    "        \"question\": RunnablePassthrough(),\n",
    "    }\n",
    "    | prompt\n",
    "    | llm\n",
    ")\n",
    "\n",
    "chain.invoke(\"Describe Victory Mansions\")\n"
   ],
   "id": "26d8843a0ed86985",
   "outputs": [
    {
     "name": "stdout",
     "output_type": "stream",
     "text": [
      "Victory Mansions is a building with glass doors and a gritty, dusty hallway that smells of boiled cabbage and old rag mats. It has a colored poster of a large face with a caption that reads \"BIG BROTHER IS WATCHING YOU.\" The building has a faulty lift and is seven flights up. Inside the flat, there is a telescreen that cannot be completely shut off."
     ]
    },
    {
     "data": {
      "text/plain": [
       "AIMessageChunk(content='Victory Mansions is a building with glass doors and a gritty, dusty hallway that smells of boiled cabbage and old rag mats. It has a colored poster of a large face with a caption that reads \"BIG BROTHER IS WATCHING YOU.\" The building has a faulty lift and is seven flights up. Inside the flat, there is a telescreen that cannot be completely shut off.')"
      ]
     },
     "execution_count": 6,
     "metadata": {},
     "output_type": "execute_result"
    }
   ],
   "execution_count": 6
  },
  {
   "metadata": {},
   "cell_type": "code",
   "outputs": [],
   "execution_count": null,
   "source": "",
   "id": "e8a4fab18d02f592"
  }
 ],
 "metadata": {
  "kernelspec": {
   "display_name": "Python 3",
   "language": "python",
   "name": "python3"
  },
  "language_info": {
   "codemirror_mode": {
    "name": "ipython",
    "version": 2
   },
   "file_extension": ".py",
   "mimetype": "text/x-python",
   "name": "python",
   "nbconvert_exporter": "python",
   "pygments_lexer": "ipython2",
   "version": "2.7.6"
  }
 },
 "nbformat": 4,
 "nbformat_minor": 5
}
