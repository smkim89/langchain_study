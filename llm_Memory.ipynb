{
 "cells": [
  {
   "cell_type": "code",
   "id": "initial_id",
   "metadata": {
    "collapsed": true,
    "ExecuteTime": {
     "end_time": "2024-08-01T10:16:44.784463Z",
     "start_time": "2024-08-01T10:16:44.780564Z"
    }
   },
   "source": [
    "from langchain.llms.openai import OpenAI\n",
    "from langchain.memory import  ConversationBufferMemory\n",
    "from langchain.memory import  ConversationBufferWindowMemory\n",
    "from langchain.memory import ConversationSummaryMemory\n",
    "from langchain.memory import ConversationSummaryBufferMemory\n",
    "from langchain.callbacks import StreamingStdOutCallbackHandler\n",
    "from dotenv import load_dotenv\n",
    "import os\n"
   ],
   "outputs": [],
   "execution_count": 39
  },
  {
   "metadata": {
    "ExecuteTime": {
     "end_time": "2024-08-01T10:16:46.160423Z",
     "start_time": "2024-08-01T10:16:46.153395Z"
    }
   },
   "cell_type": "code",
   "source": [
    "load_dotenv()\n",
    "SERVICE_KEY = os.getenv('OPEN_API_KEY')\n",
    "\n",
    "# ConversationBufferMemory 는 대화에대한 것을 모두 memory에 넣어줘야해서 비용이 커지는 메모리임 잘사용안함.\n",
    "# ConversationBufferWindowMemory 는 모든 대화를 메모리에 가지고 있지않음.\n",
    "\n",
    "llm = OpenAI(openai_api_key=SERVICE_KEY, model_name=\"gpt-3.5-turbo-1106\", temperature=0.1, streaming=True, callbacks=[StreamingStdOutCallbackHandler()])\n",
    "\n",
    "memory = ConversationBufferMemory(return_message=True)\n",
    "memory.save_context({\"input\" : \"HI!\"}, {\"output\": \"How are you ?\"})\n",
    "memory.load_memory_variables({})\n"
   ],
   "id": "be7d2fb358db9356",
   "outputs": [
    {
     "name": "stderr",
     "output_type": "stream",
     "text": [
      "C:\\Users\\smkim\\AppData\\Local\\anaconda3\\envs\\STT\\Lib\\site-packages\\langchain\\llms\\openai.py:216: UserWarning: You are trying to use a chat model. This way of initializing it is no longer supported. Instead, please use: `from langchain.chat_models import ChatOpenAI`\n",
      "  warnings.warn(\n",
      "C:\\Users\\smkim\\AppData\\Local\\anaconda3\\envs\\STT\\Lib\\site-packages\\langchain\\llms\\openai.py:811: UserWarning: You are trying to use a chat model. This way of initializing it is no longer supported. Instead, please use: `from langchain.chat_models import ChatOpenAI`\n",
      "  warnings.warn(\n"
     ]
    },
    {
     "data": {
      "text/plain": [
       "{'history': 'Human: HI!\\nAI: How are you ?'}"
      ]
     },
     "execution_count": 40,
     "metadata": {},
     "output_type": "execute_result"
    }
   ],
   "execution_count": 40
  },
  {
   "metadata": {
    "ExecuteTime": {
     "end_time": "2024-08-01T10:16:47.774512Z",
     "start_time": "2024-08-01T10:16:47.768224Z"
    }
   },
   "cell_type": "code",
   "source": [
    "memory.save_context({\"input\" : \"HI!\"}, {\"output\": \"How are you ?\"})\n",
    "memory.load_memory_variables({})\n"
   ],
   "id": "53a75f556cf115a4",
   "outputs": [
    {
     "data": {
      "text/plain": [
       "{'history': 'Human: HI!\\nAI: How are you ?\\nHuman: HI!\\nAI: How are you ?'}"
      ]
     },
     "execution_count": 41,
     "metadata": {},
     "output_type": "execute_result"
    }
   ],
   "execution_count": 41
  },
  {
   "metadata": {
    "ExecuteTime": {
     "end_time": "2024-08-01T10:16:48.857259Z",
     "start_time": "2024-08-01T10:16:48.851940Z"
    }
   },
   "cell_type": "code",
   "source": [
    "memory.save_context({\"input\" : \"HI!\"}, {\"output\": \"How are you ?\"})\n",
    "memory.load_memory_variables({})\n"
   ],
   "id": "fcd83b19f4eb1a69",
   "outputs": [
    {
     "data": {
      "text/plain": [
       "{'history': 'Human: HI!\\nAI: How are you ?\\nHuman: HI!\\nAI: How are you ?\\nHuman: HI!\\nAI: How are you ?'}"
      ]
     },
     "execution_count": 42,
     "metadata": {},
     "output_type": "execute_result"
    }
   ],
   "execution_count": 42
  },
  {
   "metadata": {
    "ExecuteTime": {
     "end_time": "2024-08-01T10:16:49.591451Z",
     "start_time": "2024-08-01T10:16:49.584736Z"
    }
   },
   "cell_type": "code",
   "source": [
    "## ConversationBufferWindowMemory 는 최근 k 갯수만큼 메모리 할수 있음. 4개까지 킵하도록 설정 \n",
    "memory2 = ConversationBufferWindowMemory(return_message=True, k=4)\n",
    "def add_message(memory,  input, output):\n",
    "    memory.save_context({\"input\" : input}, {\"output\": output})\n",
    "    \n",
    "add_message(memory2, 1,1)\n",
    "add_message(memory2, 2,2)\n",
    "add_message(memory2, 3,3)\n",
    "add_message(memory2, 4,4)\n",
    "add_message(memory2, 5,5)\n",
    "\n",
    "memory2.load_memory_variables({})"
   ],
   "id": "dca866b2cebbb435",
   "outputs": [
    {
     "data": {
      "text/plain": [
       "{'history': 'Human: 2\\nAI: 2\\nHuman: 3\\nAI: 3\\nHuman: 4\\nAI: 4\\nHuman: 5\\nAI: 5'}"
      ]
     },
     "execution_count": 43,
     "metadata": {},
     "output_type": "execute_result"
    }
   ],
   "execution_count": 43
  },
  {
   "metadata": {
    "ExecuteTime": {
     "end_time": "2024-08-01T10:16:51.097103Z",
     "start_time": "2024-08-01T10:16:51.084511Z"
    }
   },
   "cell_type": "code",
   "source": [
    "# ConversationSummaryMemory은 llm 을 활용하여 Memory에 요약해서 셋업할수있음.\n",
    "memory3 = ConversationSummaryMemory(llm=llm)\n",
    "add_message(memory3, \"hi im sungmin, i live in south korea\", 'Wow that is cool!')\n",
    "add_message(memory3, \"South Korea is so pretty\", 'I wish i could go!!!')\n",
    "\n",
    "\n",
    "memory3.load_memory_variables({})"
   ],
   "id": "ceea736f4c1178eb",
   "outputs": [
    {
     "data": {
      "text/plain": [
       "{'history': \"The human introduces themselves as Sungmin from South Korea. The AI responds with enthusiasm, finding Sungmin's location interesting and expressing a wish to visit.\"}"
      ]
     },
     "execution_count": 44,
     "metadata": {},
     "output_type": "execute_result"
    }
   ],
   "execution_count": 44
  },
  {
   "metadata": {
    "ExecuteTime": {
     "end_time": "2024-08-01T10:16:57.916641Z",
     "start_time": "2024-08-01T10:16:55.573986Z"
    }
   },
   "cell_type": "code",
   "source": [
    "\n",
    "## ConversationSummaryBufferMemory은 max token 에 도달했을때까지 메세지를 memory에 담아두고 요약해서 리턴한다.\n",
    "memory4 = ConversationSummaryBufferMemory(\n",
    "    llm = llm, max_token_limit=100, return_message=True\n",
    ")\n",
    "\n",
    "add_message(memory4, \"hi im sungmin, i live in south korea\", 'Wow that is cool!')\n",
    "\n",
    "memory4.load_memory_variables({})\n",
    "\n",
    "add_message(memory4, \"South Korea is so pretty\", 'I wish i could go!!!')\n",
    "\n",
    "memory4.load_memory_variables({})"
   ],
   "id": "856aeb06c2eebf8a",
   "outputs": [
    {
     "data": {
      "text/plain": [
       "{'history': 'Human: hi im sungmin, i live in south korea\\nAI: Wow that is cool!\\nHuman: South Korea is so pretty\\nAI: I wish i could go!!!'}"
      ]
     },
     "execution_count": 45,
     "metadata": {},
     "output_type": "execute_result"
    }
   ],
   "execution_count": 45
  },
  {
   "metadata": {
    "ExecuteTime": {
     "end_time": "2024-08-01T10:17:00.633970Z",
     "start_time": "2024-08-01T10:17:00.627841Z"
    }
   },
   "cell_type": "code",
   "source": [
    "add_message(memory4, \"How far is Korea from Argentina?\", \"I don't know! Super far!\")\n",
    "\n",
    "memory4.load_memory_variables({})\n",
    "\n",
    "add_message(memory4, \"How far is Brazil from Argentina\", \"I don't know! Super far!\")\n",
    "\n",
    "memory4.load_memory_variables({})"
   ],
   "id": "cf5e61a323d6ae81",
   "outputs": [
    {
     "data": {
      "text/plain": [
       "{'history': \"Human: hi im sungmin, i live in south korea\\nAI: Wow that is cool!\\nHuman: South Korea is so pretty\\nAI: I wish i could go!!!\\nHuman: How far is Korea from Argentina?\\nAI: I don't know! Super far!\\nHuman: How far is Brazil from Argentina\\nAI: I don't know! Super far!\"}"
      ]
     },
     "execution_count": 46,
     "metadata": {},
     "output_type": "execute_result"
    }
   ],
   "execution_count": 46
  },
  {
   "metadata": {
    "ExecuteTime": {
     "end_time": "2024-08-01T10:17:45.088295Z",
     "start_time": "2024-08-01T10:17:43.269208Z"
    }
   },
   "cell_type": "code",
   "source": [
    "add_message(memory4, \"How far is USA from Argentina\", \"I don't know! Super far!\")\n",
    "\n",
    "memory4.load_memory_variables({})\n",
    "\n",
    "add_message(memory4, \"How far is USA from Korea\", \"I don't know! Super far!\")\n",
    "\n",
    "memory4.load_memory_variables({})"
   ],
   "id": "93705239fc43ce72",
   "outputs": [
    {
     "name": "stdout",
     "output_type": "stream",
     "text": [
      "The human introduces themselves as Sungmin from South Korea.The human introduces themselves as Sungmin from South Korea, and the AI expresses admiration for that. Sungmin then comments on the beauty of South Korea."
     ]
    },
    {
     "data": {
      "text/plain": [
       "{'history': \"System: The human introduces themselves as Sungmin from South Korea, and the AI expresses admiration for that. Sungmin then comments on the beauty of South Korea.\\nAI: I wish i could go!!!\\nHuman: How far is Korea from Argentina?\\nAI: I don't know! Super far!\\nHuman: How far is Brazil from Argentina\\nAI: I don't know! Super far!\\nHuman: How far is USA from Argentina\\nAI: I don't know! Super far!\\nHuman: How far is USA from Argentina\\nAI: I don't know! Super far!\\nHuman: How far is USA from Korea\\nAI: I don't know! Super far!\"}"
      ]
     },
     "execution_count": 48,
     "metadata": {},
     "output_type": "execute_result"
    }
   ],
   "execution_count": 48
  },
  {
   "metadata": {},
   "cell_type": "code",
   "outputs": [],
   "execution_count": null,
   "source": "",
   "id": "32099460741319a0"
  }
 ],
 "metadata": {
  "kernelspec": {
   "display_name": "Python 3",
   "language": "python",
   "name": "python3"
  },
  "language_info": {
   "codemirror_mode": {
    "name": "ipython",
    "version": 2
   },
   "file_extension": ".py",
   "mimetype": "text/x-python",
   "name": "python",
   "nbconvert_exporter": "python",
   "pygments_lexer": "ipython2",
   "version": "2.7.6"
  }
 },
 "nbformat": 4,
 "nbformat_minor": 5
}
