{
 "cells": [
  {
   "cell_type": "code",
   "id": "initial_id",
   "metadata": {
    "collapsed": true,
    "ExecuteTime": {
     "end_time": "2024-08-05T01:50:53.781113Z",
     "start_time": "2024-08-05T01:50:53.732082Z"
    }
   },
   "source": [
    "from dotenv import load_dotenv\n",
    "import os\n",
    "from langchain.chat_models import ChatOpenAI\n",
    "from langchain.callbacks import StreamingStdOutCallbackHandler\n",
    "from langchain.memory import  ConversationSummaryBufferMemory\n",
    "from langchain.prompts import ChatPromptTemplate, MessagesPlaceholder\n",
    "from langchain.schema.runnable import RunnablePassthrough\n"
   ],
   "outputs": [],
   "execution_count": 30
  },
  {
   "metadata": {
    "ExecuteTime": {
     "end_time": "2024-08-05T01:52:31.584576Z",
     "start_time": "2024-08-05T01:52:31.572322Z"
    }
   },
   "cell_type": "code",
   "source": [
    "\n",
    "load_dotenv()\n",
    "SERVICE_KEY = os.getenv('OPEN_API_KEY')\n",
    "\n",
    "llm = ChatOpenAI( openai_api_key= SERVICE_KEY,model_name=\"gpt-3.5-turbo-1106\", temperature=0.1, streaming=True, callbacks=[StreamingStdOutCallbackHandler()])\n",
    "\n",
    "\n",
    "memory = ConversationSummaryBufferMemory(\n",
    "    llm=llm,\n",
    "    max_token_limit=120,\n",
    "    return_messages=True\n",
    ")\n",
    "\n",
    "prompt = ChatPromptTemplate.from_messages(\n",
    "    [\n",
    "        (\"system\", \"You are a helpful AI talking to a human\"),\n",
    "        MessagesPlaceholder(variable_name=\"history\"),\n",
    "        (\"human\", \"{question}\"),\n",
    "    ]\n",
    ")\n",
    "\n",
    "\n",
    "def load_memory(_):\n",
    "    return memory.load_memory_variables({})[\"history\"]\n",
    "\n",
    "\n",
    "chain = RunnablePassthrough.assign(history=load_memory) | prompt | llm\n",
    "\n",
    "def invoke_chain(question):\n",
    "    result = chain.invoke({\"question\": question})\n",
    "    \n",
    "    # Debugging: Check the type of result\n",
    "    print(\"Type of result:\", type(result))\n",
    "    print(\"Result:\", result)\n",
    "\n",
    "    # Ensure result is a string\n",
    "    if isinstance(result, dict):\n",
    "        result_str = str(result)  # Convert dict to a string if needed\n",
    "    elif not isinstance(result, str):\n",
    "        result_str = str(result)  # Ensure any other type is converted to string\n",
    "    else:\n",
    "        result_str = result\n",
    "\n",
    "    memory.save_context(\n",
    "        {\"input\": question},\n",
    "        {\"output\": result_str},  # Ensure it's a string\n",
    "    )\n"
   ],
   "id": "be7d2fb358db9356",
   "outputs": [],
   "execution_count": 35
  },
  {
   "metadata": {
    "ExecuteTime": {
     "end_time": "2024-08-05T01:52:33.273007Z",
     "start_time": "2024-08-05T01:52:32.454699Z"
    }
   },
   "cell_type": "code",
   "source": "invoke_chain(\"My name is sam\")",
   "id": "32099460741319a0",
   "outputs": [
    {
     "name": "stdout",
     "output_type": "stream",
     "text": [
      "Nice to meet you, Sam! How can I assist you today?Type of result: <class 'langchain.schema.messages.AIMessageChunk'>\n",
      "Result: content='Nice to meet you, Sam! How can I assist you today?'\n"
     ]
    }
   ],
   "execution_count": 36
  },
  {
   "metadata": {
    "ExecuteTime": {
     "end_time": "2024-08-05T01:52:42.573893Z",
     "start_time": "2024-08-05T01:52:41.958389Z"
    }
   },
   "cell_type": "code",
   "source": "invoke_chain(\"What is my name?\")",
   "id": "8085738e3ab37c9d",
   "outputs": [
    {
     "name": "stdout",
     "output_type": "stream",
     "text": [
      "Your name is Sam.Type of result: <class 'langchain.schema.messages.AIMessageChunk'>\n",
      "Result: content='Your name is Sam.'\n"
     ]
    }
   ],
   "execution_count": 37
  },
  {
   "metadata": {
    "ExecuteTime": {
     "end_time": "2024-08-05T01:52:49.579107Z",
     "start_time": "2024-08-05T01:52:48.968507Z"
    }
   },
   "cell_type": "code",
   "source": "invoke_chain(\"What is my name?\")",
   "id": "bc29533043979c32",
   "outputs": [
    {
     "name": "stdout",
     "output_type": "stream",
     "text": [
      "Your name is Sam.Type of result: <class 'langchain.schema.messages.AIMessageChunk'>\n",
      "Result: content='Your name is Sam.'\n"
     ]
    }
   ],
   "execution_count": 38
  },
  {
   "metadata": {},
   "cell_type": "code",
   "outputs": [],
   "execution_count": null,
   "source": "",
   "id": "26d8843a0ed86985"
  }
 ],
 "metadata": {
  "kernelspec": {
   "display_name": "Python 3",
   "language": "python",
   "name": "python3"
  },
  "language_info": {
   "codemirror_mode": {
    "name": "ipython",
    "version": 2
   },
   "file_extension": ".py",
   "mimetype": "text/x-python",
   "name": "python",
   "nbconvert_exporter": "python",
   "pygments_lexer": "ipython2",
   "version": "2.7.6"
  }
 },
 "nbformat": 4,
 "nbformat_minor": 5
}
