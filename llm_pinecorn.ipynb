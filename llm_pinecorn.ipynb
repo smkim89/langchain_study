{
 "cells": [
  {
   "cell_type": "code",
   "id": "initial_id",
   "metadata": {
    "collapsed": true,
    "ExecuteTime": {
     "end_time": "2024-08-22T08:46:07.130911Z",
     "start_time": "2024-08-22T08:46:03.657224Z"
    }
   },
   "source": [
    "from pinecone import Pinecone\n",
    "from langchain.document_loaders import CSVLoader\n",
    "from langchain.text_splitter import RecursiveCharacterTextSplitter\n",
    "from langchain.embeddings.openai import OpenAIEmbeddings\n",
    "from langchain_pinecone import PineconeVectorStore\n",
    "from dotenv import load_dotenv\n",
    "import os\n",
    "\n",
    "load_dotenv()\n",
    "PINECONE_API_KEY = os.getenv('PINECONE_API_KEY')\n",
    "SERVICE_KEY = os.getenv('OPEN_API_KEY')\n",
    "\n",
    "pc = Pinecone(api_key=PINECONE_API_KEY)\n",
    "\n",
    "splitter = RecursiveCharacterTextSplitter.from_tiktoken_encoder()\n",
    "\n",
    "loader = CSVLoader(\"./recipes.csv\", encoding='utf-8')\n",
    "\n",
    "docs = loader.load_and_split(text_splitter=splitter)\n",
    "\n",
    "embeddings = OpenAIEmbeddings(openai_api_key= SERVICE_KEY)\n",
    "# 백터스토어에 저장 (pinecone에 저장)\n",
    "# vectore_store = PineconeVectorStore.from_documents(docs,embeddings,index_name=\"recipe-gpt-study\")\n",
    "\n",
    "\n",
    "# 저장되어있는 vectore_store 가져오는 방법\n",
    "vector_store = PineconeVectorStore.from_existing_index(\"recipe-gpt-study\", embeddings)\n",
    "\n",
    "\n",
    "docs = vector_store.similarity_search(\"tofu\")\n",
    "\n",
    "docs"
   ],
   "outputs": [
    {
     "data": {
      "text/plain": [
       "[Document(page_content=': 298\\nhref: https://veganuary.com/recipes/red-tofu-curry/\\ntitle: Red Tofu Curry\\ningredients: Ingredients\\n\\n1 tablespoon canola oil\\n1 (12-ounce) package extra-firm tofu, cut into ½-inch cubes and pressed to reduce excess water\\n3 cups baby carrots, halved\\xa0lengthwise\\n2 cups peeled red or Yukon potatoes, chopped into bite-size pieces\\n2 medium yellow onions, diced\\n3 teaspoons minced garlic (6 cloves)\\n1 (1-inch) piece fresh ginger, peeled and minced\\n1¾ cups water\\n1 cup canned unsweetened coconut milk\\n1 ½ tablespoons red curry paste\\n1 vegetable bouillon cube\\n½ teaspoon salt\\nCooked rice, for serving\\nFresh cilantro, for garnish\\npreparation: Method\\n\\nIn a skillet over medium-high heat, heat the oil. Add the tofu and brown until the edges are crisp, about 5 minutes.\\nCombine the tofu, baby carrots, potatoes, onions, garlic, ginger, water, coconut milk, red curry paste, bouillon cube, and salt in a slow cooker; mix well.\\nCover and cook on low for 6 to 8 hours or on high for 3 to 4 hours.\\nServe over rice and garnished with cilantro.', metadata={'row': 298.0, 'source': './recipes.csv'}),\n",
       " Document(page_content=': 82\\nhref: https://veganuary.com/recipes/sizzling-tofu/\\ntitle: Sesame Ginger Tofu\\ningredients: Ingredients\\n\\n1 pack firm tofu\\n2 tsp sesame oil\\n2 tsp minced ginger\\n4 spring onions, sliced into thin rounds\\n1 Tbsp shoyu sauce\\nJuice squeezed from fresh ginger\\npreparation: Method\\n\\nPress the tofu in paper towels to remove excess liquid.\\nSlice the tofu lengthwise in half, then widthwise into ½ inch thick pieces.\\nHeat the oil in a frying pan over medium heat, sauté the ginger and spring onions over medium heat for a minute and then add the tofu slices to the pan and cook on either side, sprinkling with shoyu sauce.\\nSeason with a little more shoyu and then squeeze the ginger juice over the tofu.\\nLet everything sizzle for a minute or two.\\nServe with a selection of sautéed vegetables of your choice.', metadata={'row': 82.0, 'source': './recipes.csv'}),\n",
       " Document(page_content=': 686\\nhref: https://veganuary.com/recipes/tofu-thai-green-curry/\\ntitle: Tofu Thai Green Curry\\ningredients: Ingredients\\n\\nCauldron Organic Tofu 396g (or similar alternative)\\n2 tbsp light soy sauce\\n125g green beans, trimmed\\n1 bunch fresh asparagus, trimmed\\n1-2 tbsp vegetable oil\\n2 tbsp green Thai curry paste\\n2 shallots, finely chopped\\n1 green chilli, deseeded and finely chopped\\n3 garlic cloves, crushed\\n1 × 400ml coconut milk\\n125g baby corn\\n½ courgette, cut into thin slices\\n1 red pepper, trimmed and cut into thin strips\\n125g pak choi\\nJuice of 1 lime\\n1 tbsp chopped coriander, plus extra for garnish\\n2 spring onions, trimmed and cut into thin slices\\npreparation: Method\\n\\nDrain the tofu, wrap in kitchen paper to remove excess water for 20 minutes, cut into 1 cm pieces and place in the soy sauce to marinate.\\nBring a pan of water to the boil and blanch the green beans and asparagus tips for a minute, drain and refresh in cold water.\\nHeat the oil in a wok, add the green Thai curry paste and cook for 2 minutes stirring frequently.\\nAdd the tofu, stir lightly until coated with the curry paste then cook for a further 2 minutes. Then add the shallots, chilli and garlic and carry on cooking for another 2 minutes.\\nPour in the coconut milk, bring to a simmer, then add the baby corn, courgette, red pepper, green beans and asparagus. Cook over a medium heat for 4-5 minutes then add pak choi. Simmer once again for a minute then lastly tip in the fresh lime juice and chopped coriander.\\nServe sprinkled with a small amount of chopped coriander and spring onions accompanied with Thai jasmine rice.\\n\\n\\xa0\\nDid you enjoy this dish? Explore more of our vegan curry recipes.', metadata={'row': 686.0, 'source': './recipes.csv'}),\n",
       " Document(page_content=': 308\\nhref: https://veganuary.com/recipes/tofu-scramble/\\ntitle: Tofu Scramble\\ningredients: Ingredients\\n\\n1 tablespoon toasted sesame oil\\n1 onion finely diced\\n1 block fresh tofu\\n1 tsp turmeric\\n3 spring onions, very thinly sliced on the diagonal\\nJar of sweetcorn (organic)\\n2 tablespoons shoyu sauce\\n1 red pepper, seeded and diced\\n1 sheet of nori seaweed, cut into small pieces or ¼ cup nori pieces\\n½ cup fresh coriander, stalks removed and finely diced\\n1 tablespoon toasted black sesame seeds\\nParsley, minced for garnish\\npreparation: Method\\nHeat the oil in a heavy frying pan over a medium heat.\\nAdd the onion and sauté for 3 minutes.\\nAdd the red pepper and turmeric and sauté for a further 2 or 3 minutes.\\nAdd the corn and spring onions to the pan and sauté for a few minutes.\\nWith your hands, crumble the tofu into the pan.\\nAdd the fresh coriander, shoyu to taste and a small drop of water and scramble the tofu for 5 minutes.\\nSprinkle the parsley and black sesame seeds, and serve hot with a crusty whole grain baguette or sourdough soft, or toasted.', metadata={'row': 308.0, 'source': './recipes.csv'})]"
      ]
     },
     "execution_count": 20,
     "metadata": {},
     "output_type": "execute_result"
    }
   ],
   "execution_count": 20
  },
  {
   "metadata": {},
   "cell_type": "code",
   "outputs": [],
   "execution_count": null,
   "source": "",
   "id": "14d15dc49af74808"
  }
 ],
 "metadata": {
  "kernelspec": {
   "display_name": "Python 3",
   "language": "python",
   "name": "python3"
  },
  "language_info": {
   "codemirror_mode": {
    "name": "ipython",
    "version": 2
   },
   "file_extension": ".py",
   "mimetype": "text/x-python",
   "name": "python",
   "nbconvert_exporter": "python",
   "pygments_lexer": "ipython2",
   "version": "2.7.6"
  }
 },
 "nbformat": 4,
 "nbformat_minor": 5
}
