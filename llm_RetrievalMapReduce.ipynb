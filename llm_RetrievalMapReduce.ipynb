{
 "cells": [
  {
   "cell_type": "code",
   "id": "initial_id",
   "metadata": {
    "collapsed": true,
    "ExecuteTime": {
     "end_time": "2024-08-09T09:28:39.103021Z",
     "start_time": "2024-08-09T09:28:38.997075Z"
    }
   },
   "source": [
    "from dotenv import load_dotenv\n",
    "import os\n",
    "from langchain.chat_models import ChatOpenAI\n",
    "from langchain.callbacks import StreamingStdOutCallbackHandler\n",
    "from langchain.document_loaders import UnstructuredFileLoader\n",
    "from langchain.text_splitter import  RecursiveCharacterTextSplitter\n",
    "from langchain.text_splitter import CharacterTextSplitter\n",
    "from langchain.embeddings import OpenAIEmbeddings, CacheBackedEmbeddings\n",
    "from langchain.vectorstores import Chroma\n",
    "from langchain.storage import LocalFileStore\n",
    "from langchain.prompts import ChatPromptTemplate\n",
    "from langchain.schema.runnable import RunnablePassthrough, RunnableLambda\n"
   ],
   "outputs": [],
   "execution_count": 4
  },
  {
   "metadata": {
    "ExecuteTime": {
     "end_time": "2024-08-09T09:28:43.805312Z",
     "start_time": "2024-08-09T09:28:43.240064Z"
    }
   },
   "cell_type": "code",
   "source": [
    "\n",
    "load_dotenv()\n",
    "SERVICE_KEY = os.getenv('OPEN_API_KEY')\n",
    "\n",
    "# Cache 디렉토리 지정\n",
    "cache_dir = LocalFileStore(\"./.cache/\")\n",
    "\n",
    "\n",
    "llm = ChatOpenAI( openai_api_key= SERVICE_KEY,model_name=\"gpt-3.5-turbo-1106\", temperature=0.1, streaming=True, callbacks=[StreamingStdOutCallbackHandler()])\n",
    "\n",
    "# splitter = RecursiveCharacterTextSplitter(\n",
    "#     chunk_size=200,\n",
    "#     chunk_overlap=50\n",
    "# )\n",
    "splitter = CharacterTextSplitter.from_tiktoken_encoder(\n",
    "    separator=\"\\n\",\n",
    "    chunk_size=600,\n",
    "    chunk_overlap=100\n",
    ")\n",
    "\n",
    "loader = UnstructuredFileLoader(\"./files/word_test.docx\")\n",
    "\n",
    "docs = loader.load_and_split(text_splitter=splitter)\n",
    "\n",
    "embeddings = OpenAIEmbeddings(openai_api_key= SERVICE_KEY)\n",
    "\n",
    "cached_embeddings = CacheBackedEmbeddings.from_bytes_store(embeddings, cache_dir)\n",
    "\n",
    "vectorstore = Chroma.from_documents(docs, cached_embeddings)\n"
   ],
   "id": "be7d2fb358db9356",
   "outputs": [],
   "execution_count": 5
  },
  {
   "metadata": {
    "ExecuteTime": {
     "end_time": "2024-08-09T09:28:52.156700Z",
     "start_time": "2024-08-09T09:28:49.767891Z"
    }
   },
   "cell_type": "code",
   "source": [
    "\n",
    "results = vectorstore.similarity_search(\"where does winston live\")\n",
    "\n",
    "retriever = vectorstore.as_retriever()\n",
    "\n",
    "# retriever로부터 documents들을 입력받고, LLM을 통해 추출된 document를 살펴보면서 각 document에 대해 생성된 응답들을 전부 합쳐 한개의 최종 document를 만들고\n",
    "# 해당 documnet를 final prompt에 입력하여 LLM에 전달 LLM은 질문에 대해 답변해줌.\n",
    "\n",
    "map_doc_prompt = ChatPromptTemplate.from_messages(\n",
    "    [\n",
    "        (\n",
    "            \"system\",\n",
    "            \"\"\"\n",
    "            Use the following portion of a long document to see if any of the text is relevant to answer the question. Return any relevant text verbatim. If there is no relevant text, return : ''\n",
    "            -------\n",
    "            {context}\n",
    "            \"\"\",\n",
    "        ),\n",
    "        (\"human\", \"{question}\"),\n",
    "    ]\n",
    ")\n",
    "\n",
    "map_doc_chain = map_doc_prompt | llm\n",
    "\n",
    "\n",
    "# .content는 ai message (String 값임)\n",
    "def map_docs(inputs):\n",
    "    documents = inputs[\"documents\"]\n",
    "    question = inputs[\"question\"]\n",
    "    results = []\n",
    "    for doc in documents:\n",
    "        result = map_doc_chain.invoke(\n",
    "            {\"context\": doc.page_content, \"question\": question}\n",
    "        ).content\n",
    "        results.append(result)\n",
    "    \"\\n\\n\".join(results)\n",
    "    return results\n",
    "\n",
    "#RunnableLambda 는 Chain과 그 내 부 어디서든 function을 호출할수 있도록 해줌.\n",
    "map_chain = {\n",
    "    \"documents\": retriever,\n",
    "    \"question\": RunnablePassthrough(),\n",
    "} | RunnableLambda(map_docs)\n",
    "\n",
    "final_prompt = ChatPromptTemplate.from_messages(\n",
    "    [\n",
    "        (\n",
    "            \"system\",\n",
    "            \"\"\"\n",
    "            Given the following extracted parts of a long document and a question, create a final answer. \n",
    "            If you don't know the answer, just say that you don't know. Don't try to make up an answer.\n",
    "            ------\n",
    "            {context}\n",
    "            \"\"\",\n",
    "        ),\n",
    "        (\"human\", \"{question}\"),\n",
    "    ]\n",
    ")\n",
    "\n",
    "chain = {\"context\": map_chain, \"question\": RunnablePassthrough()} | final_prompt | llm\n",
    "\n",
    "chain.invoke(\"How many ministries are mentioned\")"
   ],
   "id": "26d8843a0ed86985",
   "outputs": [
    {
     "name": "stdout",
     "output_type": "stream",
     "text": [
      "Victory Mansions is a building with glass doors and a gritty, dusty hallway that smells of boiled cabbage and old rag mats. It has a colored poster of a large face with a caption that reads \"BIG BROTHER IS WATCHING YOU.\" The building has a faulty lift and is seven flights up. Inside the flat, there is a telescreen that cannot be completely shut off."
     ]
    },
    {
     "data": {
      "text/plain": [
       "AIMessageChunk(content='Victory Mansions is a building with glass doors and a gritty, dusty hallway that smells of boiled cabbage and old rag mats. It has a colored poster of a large face with a caption that reads \"BIG BROTHER IS WATCHING YOU.\" The building has a faulty lift and is seven flights up. Inside the flat, there is a telescreen that cannot be completely shut off.')"
      ]
     },
     "execution_count": 6,
     "metadata": {},
     "output_type": "execute_result"
    }
   ],
   "execution_count": 6
  },
  {
   "metadata": {},
   "cell_type": "code",
   "outputs": [],
   "execution_count": null,
   "source": "",
   "id": "e8a4fab18d02f592"
  }
 ],
 "metadata": {
  "kernelspec": {
   "display_name": "Python 3",
   "language": "python",
   "name": "python3"
  },
  "language_info": {
   "codemirror_mode": {
    "name": "ipython",
    "version": 2
   },
   "file_extension": ".py",
   "mimetype": "text/x-python",
   "name": "python",
   "nbconvert_exporter": "python",
   "pygments_lexer": "ipython2",
   "version": "2.7.6"
  }
 },
 "nbformat": 4,
 "nbformat_minor": 5
}
