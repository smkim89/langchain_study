{
 "cells": [
  {
   "cell_type": "code",
   "id": "initial_id",
   "metadata": {
    "collapsed": true,
    "ExecuteTime": {
     "end_time": "2024-08-17T05:50:53.225520Z",
     "start_time": "2024-08-17T05:50:52.558768Z"
    }
   },
   "source": [
    "from langchain.llms.huggingface_pipeline import HuggingFacePipeline\n",
    "from langchain.prompts import PromptTemplate\n",
    "from dotenv import load_dotenv\n",
    "import os"
   ],
   "outputs": [],
   "execution_count": 2
  },
  {
   "metadata": {
    "ExecuteTime": {
     "end_time": "2024-08-17T05:54:56.350201Z",
     "start_time": "2024-08-17T05:54:48.947342Z"
    }
   },
   "cell_type": "code",
   "source": [
    "load_dotenv()\n",
    "SERVICE_KEY = os.getenv('HUGGING_FACE_HUB_TOKEN')\n",
    "\n",
    "\n",
    "prompt = PromptTemplate.from_template(\"What is the meaning of {word}\")\n",
    "\n",
    "llm = HuggingFacePipeline.from_model_id(\n",
    "    model_id=\"gpt2\",\n",
    "    task=\"text-generation\",\n",
    "    pipeline_kwargs={\"max_new_tokens\": 150},\n",
    ")\n",
    "\n",
    "chain = prompt | llm\n",
    "chain.invoke({\n",
    "\"word\": \"potato\"\n",
    "})"
   ],
   "id": "f3167fa6a439fc5f",
   "outputs": [
    {
     "name": "stderr",
     "output_type": "stream",
     "text": [
      "Using pad_token, but it is not set yet.\n",
      "Setting `pad_token_id` to `eos_token_id`:50256 for open-end generation.\n"
     ]
    },
    {
     "data": {
      "text/plain": [
       "' chips and how and when does it taste like other foods and if so what does it do?\\n\\nWhat are the nutritional properties?\\n\\nWhat are the main nutrients? What is the role of vitamins?\\n\\nWhen has potato chips become part of the popular diet? What is its nutritional value?\\n\\nIs it legal to eat them in certain states? Should I take their nutritional value into account if I want to lose weight?\\n\\nDo they contain a small dose of omega-6 fatty acids?\\n\\nAre they safe? Are they healthy to eat?\\n\\nAre their nutrient content the same as non-vegetable foods? Are they healthy enough for daily activity?\\n\\nDoes food packaging make them good nutritional alternatives to'"
      ]
     },
     "execution_count": 4,
     "metadata": {},
     "output_type": "execute_result"
    }
   ],
   "execution_count": 4
  },
  {
   "metadata": {},
   "cell_type": "code",
   "outputs": [],
   "execution_count": null,
   "source": "",
   "id": "e91e11b9e95e88e8"
  }
 ],
 "metadata": {
  "kernelspec": {
   "display_name": "Python 3",
   "language": "python",
   "name": "python3"
  },
  "language_info": {
   "codemirror_mode": {
    "name": "ipython",
    "version": 2
   },
   "file_extension": ".py",
   "mimetype": "text/x-python",
   "name": "python",
   "nbconvert_exporter": "python",
   "pygments_lexer": "ipython2",
   "version": "2.7.6"
  }
 },
 "nbformat": 4,
 "nbformat_minor": 5
}
