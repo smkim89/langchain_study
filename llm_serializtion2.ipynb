{
 "cells": [
  {
   "cell_type": "code",
   "id": "initial_id",
   "metadata": {
    "collapsed": true,
    "ExecuteTime": {
     "end_time": "2024-07-29T10:20:54.875602Z",
     "start_time": "2024-07-29T10:20:53.975536Z"
    }
   },
   "source": [
    "from langchain.llms.openai import OpenAI\n",
    "from langchain.prompts import  load_prompt\n",
    "from langchain.callbacks import StreamingStdOutCallbackHandler, get_openai_callback\n",
    "from dotenv import load_dotenv\n",
    "import os\n"
   ],
   "outputs": [],
   "execution_count": 1
  },
  {
   "metadata": {
    "ExecuteTime": {
     "end_time": "2024-07-29T10:21:23.204936Z",
     "start_time": "2024-07-29T10:20:58.103253Z"
    }
   },
   "cell_type": "code",
   "source": [
    "load_dotenv()\n",
    "SERVICE_KEY = os.getenv('OPEN_API_KEY')\n",
    "\n",
    "llm = OpenAI(openai_api_key=SERVICE_KEY, model_name=\"gpt-3.5-turbo-1106\", temperature=0.1, streaming=True, callbacks=[StreamingStdOutCallbackHandler()])\n",
    "\n",
    "\n",
    "#모델의 비용 cost 사용량을 확인할수 있음.\n",
    "with get_openai_callback() as usage:\n",
    "    a = llm.predict(\"What is the recipe for soju\")\n",
    "    b = llm.predict(\"What is the recipe for bread\")\n",
    "    print(a, \"\\n\")\n",
    "    print(b, \"\\n\")\n",
    "    print(usage)\n"
   ],
   "id": "be7d2fb358db9356",
   "outputs": [
    {
     "name": "stderr",
     "output_type": "stream",
     "text": [
      "C:\\Users\\smkim\\AppData\\Local\\anaconda3\\envs\\STT\\Lib\\site-packages\\langchain\\llms\\openai.py:216: UserWarning: You are trying to use a chat model. This way of initializing it is no longer supported. Instead, please use: `from langchain.chat_models import ChatOpenAI`\n",
      "  warnings.warn(\n",
      "C:\\Users\\smkim\\AppData\\Local\\anaconda3\\envs\\STT\\Lib\\site-packages\\langchain\\llms\\openai.py:811: UserWarning: You are trying to use a chat model. This way of initializing it is no longer supported. Instead, please use: `from langchain.chat_models import ChatOpenAI`\n",
      "  warnings.warn(\n"
     ]
    },
    {
     "name": "stdout",
     "output_type": "stream",
     "text": [
      "Ingredients:\n",
      "- 1 bottle of soju\n",
      "- 1-2 cups of water\n",
      "- 1-2 tablespoons of sugar\n",
      "- Ice cubes\n",
      "\n",
      "Instructions:\n",
      "1. In a pitcher, mix the soju with water. The ratio of soju to water can vary depending on your preference, but a common ratio is 1:1 or 1:2.\n",
      "2. Add sugar to the mixture and stir until it is dissolved. The amount of sugar can also be adjusted to taste.\n",
      "3. Fill glasses with ice cubes and pour the soju mixture over the ice.\n",
      "4. Serve and enjoy!Ingredients:\n",
      "- 4 cups all-purpose flour\n",
      "- 1 packet active dry yeast\n",
      "- 1 1/2 cups warm water\n",
      "- 2 tablespoons sugar\n",
      "- 2 tablespoons olive oil\n",
      "- 1 teaspoon salt\n",
      "\n",
      "Instructions:\n",
      "1. In a large mixing bowl, combine the warm water, sugar, and yeast. Let it sit for 5-10 minutes until the yeast is foamy.\n",
      "2. Add the olive oil and salt to the yeast mixture and stir to combine.\n",
      "3. Gradually add the flour to the mixture, stirring until a dough forms.\n",
      "4. Turn the dough out onto a floured surface and knead for 5-10 minutes, until the dough is smooth and elastic.\n",
      "5. Place the dough in a greased bowl, cover with a clean kitchen towel, and let it rise in a warm place for 1-2 hours, or until doubled in size.\n",
      "6. Preheat the oven to 375°F (190°C).\n",
      "7. Punch down the dough and shape it into a loaf. Place the loaf on a greased baking sheet and let it rise for another 30 minutes.\n",
      "8. Bake the bread for 30-35 minutes, or until it is golden brown and sounds hollow when tapped on the bottom.\n",
      "9. Let the bread cool before slicing and serving. Enjoy!Ingredients:\n",
      "- 1 bottle of soju\n",
      "- 1-2 cups of water\n",
      "- 1-2 tablespoons of sugar\n",
      "- Ice cubes\n",
      "\n",
      "Instructions:\n",
      "1. In a pitcher, mix the soju with water. The ratio of soju to water can vary depending on your preference, but a common ratio is 1:1 or 1:2.\n",
      "2. Add sugar to the mixture and stir until it is dissolved. The amount of sugar can also be adjusted to taste.\n",
      "3. Fill glasses with ice cubes and pour the soju mixture over the ice.\n",
      "4. Serve and enjoy! \n",
      "\n",
      "Ingredients:\n",
      "- 4 cups all-purpose flour\n",
      "- 1 packet active dry yeast\n",
      "- 1 1/2 cups warm water\n",
      "- 2 tablespoons sugar\n",
      "- 2 tablespoons olive oil\n",
      "- 1 teaspoon salt\n",
      "\n",
      "Instructions:\n",
      "1. In a large mixing bowl, combine the warm water, sugar, and yeast. Let it sit for 5-10 minutes until the yeast is foamy.\n",
      "2. Add the olive oil and salt to the yeast mixture and stir to combine.\n",
      "3. Gradually add the flour to the mixture, stirring until a dough forms.\n",
      "4. Turn the dough out onto a floured surface and knead for 5-10 minutes, until the dough is smooth and elastic.\n",
      "5. Place the dough in a greased bowl, cover with a clean kitchen towel, and let it rise in a warm place for 1-2 hours, or until doubled in size.\n",
      "6. Preheat the oven to 375°F (190°C).\n",
      "7. Punch down the dough and shape it into a loaf. Place the loaf on a greased baking sheet and let it rise for another 30 minutes.\n",
      "8. Bake the bread for 30-35 minutes, or until it is golden brown and sounds hollow when tapped on the bottom.\n",
      "9. Let the bread cool before slicing and serving. Enjoy! \n",
      "\n",
      "Tokens Used: 0\n",
      "\tPrompt Tokens: 0\n",
      "\tCompletion Tokens: 0\n",
      "Successful Requests: 0\n",
      "Total Cost (USD): $0.0\n"
     ]
    }
   ],
   "execution_count": 2
  },
  {
   "metadata": {
    "ExecuteTime": {
     "end_time": "2024-07-25T10:39:39.468567Z",
     "start_time": "2024-07-25T10:39:39.459832Z"
    }
   },
   "cell_type": "code",
   "source": "",
   "id": "f01ee70c6bc21989",
   "outputs": [
    {
     "name": "stderr",
     "output_type": "stream",
     "text": [
      "No `_type` key found, defaulting to `prompt`.\n"
     ]
    },
    {
     "data": {
      "text/plain": [
       "'What is the capital of USA'"
      ]
     },
     "execution_count": 9,
     "metadata": {},
     "output_type": "execute_result"
    }
   ],
   "execution_count": 9
  },
  {
   "metadata": {},
   "cell_type": "code",
   "outputs": [],
   "execution_count": null,
   "source": "",
   "id": "8295429567ba1497"
  }
 ],
 "metadata": {
  "kernelspec": {
   "display_name": "Python 3",
   "language": "python",
   "name": "python3"
  },
  "language_info": {
   "codemirror_mode": {
    "name": "ipython",
    "version": 2
   },
   "file_extension": ".py",
   "mimetype": "text/x-python",
   "name": "python",
   "nbconvert_exporter": "python",
   "pygments_lexer": "ipython2",
   "version": "2.7.6"
  }
 },
 "nbformat": 4,
 "nbformat_minor": 5
}
